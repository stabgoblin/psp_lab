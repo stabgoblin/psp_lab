{
 "cells": [
  {
   "cell_type": "code",
   "execution_count": null,
   "id": "1e12b6bb",
   "metadata": {},
   "outputs": [],
   "source": [
    "#print all 4 digit palindrome from 1000 to 9999\n",
    "for i in range(1000,10000):\n",
    "    if(str(i) == str(i)[::-1]):\n",
    "        print(i,str(i)[::-1])"
   ]
  },
  {
   "cell_type": "code",
   "execution_count": null,
   "id": "af64fca9",
   "metadata": {},
   "outputs": [],
   "source": [
    "#print twin primes less than thousand\n",
    "flag1,flag2,i = 0,0,3\n",
    "while i<1000:\n",
    "    flag1,flag2 = 0,0\n",
    "    for j in range(2,int(i**0.5)+1):\n",
    "        if i%j == 0:\n",
    "            flag1 = 1\n",
    "            break\n",
    "        if (i+2)%j ==0:   \n",
    "            flag2 =1\n",
    "            break\n",
    "    if flag1 == 0 and flag2 ==0:\n",
    "        print(\"(\",i,\",\",i+2,\"),\",end='')\n",
    "        i+=3\n",
    "    else:\n",
    "        i+=1"
   ]
  },
  {
   "cell_type": "code",
   "execution_count": null,
   "id": "7fc9d058",
   "metadata": {},
   "outputs": [],
   "source": [
    "#write a program to display first 100 emirp primes\n",
    "flag1,flag2,i,c1,c2 = 0,0,13,0,1\n",
    "while(c1 < 100):\n",
    "    flag1,flag2 = 0,0\n",
    "    for j in range(2,int(i**0.5)+1):\n",
    "        if i % j == 0:\n",
    "            flag1 = 1\n",
    "    for j in range(2,int((int(str(i)[::-1]))**0.5)+1):\n",
    "        if int(str(i)[::-1]) % j == 0:\n",
    "            flag2 = 1\n",
    "    if flag1 == 0 and flag2 == 0:\n",
    "        c1+=1\n",
    "        if c2<10:\n",
    "            print(f\"{i},\",end='')\n",
    "            c2+=1\n",
    "        elif c2 == 10:\n",
    "            c2=1\n",
    "            print(f\"{i},\")\n",
    "    i+=1\n",
    "# 797 wont come because it will be same number after reversing and remove string functions"
   ]
  },
  {
   "cell_type": "code",
   "execution_count": null,
   "id": "b43df053",
   "metadata": {},
   "outputs": [],
   "source": [
    "#first 100 palindromic prime numbers\n"
   ]
  }
 ],
 "metadata": {
  "kernelspec": {
   "display_name": "Python 3 (ipykernel)",
   "language": "python",
   "name": "python3"
  },
  "language_info": {
   "codemirror_mode": {
    "name": "ipython",
    "version": 3
   },
   "file_extension": ".py",
   "mimetype": "text/x-python",
   "name": "python",
   "nbconvert_exporter": "python",
   "pygments_lexer": "ipython3",
   "version": "3.9.12"
  }
 },
 "nbformat": 4,
 "nbformat_minor": 5
}
