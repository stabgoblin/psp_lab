{
 "cells": [
  {
   "cell_type": "code",
   "execution_count": 50,
   "id": "4277ef9a",
   "metadata": {},
   "outputs": [
    {
     "name": "stdout",
     "output_type": "stream",
     "text": [
      "0    1\n",
      "1    2\n",
      "2    3\n",
      "dtype: int64\n",
      "0    4\n",
      "1    5\n",
      "2    6\n",
      "dtype: int64\n",
      "Addition\n",
      " 0    5\n",
      "1    7\n",
      "2    9\n",
      "dtype: int64\n",
      "Substraction\n",
      " 0   -3\n",
      "1   -3\n",
      "2   -3\n",
      "dtype: int64\n",
      "Multiplication\n",
      " 0     4\n",
      "1    10\n",
      "2    18\n",
      "dtype: int64\n",
      "Division\n",
      " 0    0.25\n",
      "1    0.40\n",
      "2    0.50\n",
      "dtype: float64\n"
     ]
    }
   ],
   "source": [
    "import pandas as pd\n",
    "\n",
    "s1, s2 = pd.Series([1, 2, 3]), pd.Series([4, 5, 6])\n",
    "print(s1)\n",
    "print(s2)\n",
    "print(\"Addition\\n\",s1 + s2)\n",
    "print(\"Substraction\\n\",s1 - s2)\n",
    "print(\"Multiplication\\n\",s1 * s2)\n",
    "print(\"Division\\n\",s1 / s2)-"
   ]
  },
  {
   "cell_type": "code",
   "execution_count": 63,
   "id": "7e52b2c1",
   "metadata": {},
   "outputs": [
    {
     "name": "stdout",
     "output_type": "stream",
     "text": [
      "Enter the name of the text file: data/input.txt\n",
      "\n",
      "Non-duplicate words in ascending order:\n",
      "are\n",
      "everyone\n",
      "fine\n",
      "hello\n",
      "hii\n",
      "how\n",
      "world\n",
      "you\n"
     ]
    }
   ],
   "source": [
    "def non_duplicate_words(file_name):\n",
    "    with open(file_name, 'r') as file:\n",
    "        words = file.read().lower().split()\n",
    "        unique_words = set(words)\n",
    "        return sorted(unique_words)\n",
    "\n",
    "file_name = input(\"Enter the name of the text file: \")\n",
    "words = non_duplicate_words(file_name)\n",
    "\n",
    "if words:\n",
    "    print(\"\\nNon-duplicate words in ascending order:\")\n",
    "    print(\"\\n\".join(words))\n"
   ]
  },
  {
   "cell_type": "code",
   "execution_count": 58,
   "id": "18f6c5c1",
   "metadata": {},
   "outputs": [
    {
     "name": "stdout",
     "output_type": "stream",
     "text": [
      "Enter the file path: data/input.txt\n",
      "Vowels: 24, Consonants: 24\n"
     ]
    }
   ],
   "source": [
    "def count_vowels_consonants(file_path):\n",
    "    vowels = set('aeiouAEIOU')\n",
    "    with open(file_path, 'r') as file:\n",
    "        text = file.read()\n",
    "        vowels_count = sum(1 for c in text if c in vowels)\n",
    "        consonants_count = sum(1 for c in text if c.isalpha() and c not in vowels)\n",
    "    print(f\"Vowels: {vowels_count}, Consonants: {consonants_count}\")\n",
    "\n",
    "count_vowels_consonants(input(\"Enter the file path: \"))"
   ]
  },
  {
   "cell_type": "code",
   "execution_count": 57,
   "id": "cf88dae9",
   "metadata": {},
   "outputs": [
    {
     "name": "stdout",
     "output_type": "stream",
     "text": [
      "Enter the input file path: data/input.txt\n",
      "Enter the output file path: data/output.txt\n"
     ]
    }
   ],
   "source": [
    "def remove_newlines(input_file, output_file):\n",
    "    with open(input_file, 'r') as infile, open(output_file, 'w') as outfile:\n",
    "        outfile.write(infile.read().replace('\\n', ' '))\n",
    "\n",
    "remove_newlines(input(\"Enter the input file path: \"), input(\"Enter the output file path: \"))"
   ]
  },
  {
   "cell_type": "code",
   "execution_count": 56,
   "id": "12ea3e21",
   "metadata": {},
   "outputs": [
    {
     "name": "stdout",
     "output_type": "stream",
     "text": [
      "Enter the input CSV file path: data/day.csv\n",
      "Enter the output CSV file path: data/copy_data.csv\n"
     ]
    }
   ],
   "source": [
    "import csv\n",
    "\n",
    "def copy_csv(input_file, output_file):\n",
    "    with open(input_file, 'r') as infile, open(output_file, 'w', newline='') as outfile:\n",
    "        csv.writer(outfile).writerows(csv.reader(infile))\n",
    "\n",
    "copy_csv(input(\"Enter the input CSV file path: \"), input(\"Enter the output CSV file path: \"))"
   ]
  },
  {
   "cell_type": "code",
   "execution_count": null,
   "id": "b4a23f1e",
   "metadata": {},
   "outputs": [],
   "source": [
    "import numpy as np\n",
    "\n",
    "matrix1 = np.array([[1, 2, 3], [4, 5, 6], [7, 8, 9]])\n",
    "matrix2 = np.array([[9, 8, 7], [6, 5, 4], [3, 2, 1]])\n",
    "\n",
    "print(\"Addition:\\n\", matrix1 + matrix2)\n",
    "print(\"\\nSubtraction:\\n\", matrix1 - matrix2)\n",
    "print(\"\\nMultiplication:\\n\", matrix1 * matrix2)\n",
    "print(\"\\nDivision:\\n\", matrix1 / matrix2)"
   ]
  },
  {
   "cell_type": "code",
   "execution_count": null,
   "id": "426b841e",
   "metadata": {},
   "outputs": [],
   "source": [
    "import numpy as np\n",
    "\n",
    "A = np.array([[1, 2], [3, 4]])\n",
    "print(A)\n",
    "print(\"Determinant of matrix : \",np.linalg.det(A))"
   ]
  },
  {
   "cell_type": "code",
   "execution_count": null,
   "id": "fbcf91a0",
   "metadata": {},
   "outputs": [],
   "source": [
    "import numpy as np\n",
    "\n",
    "A = np.array([[1, 2], [2, 1]])\n",
    "print(A)\n",
    "print('Is matrix symmetric : ',np.allclose(A, A.T))"
   ]
  },
  {
   "cell_type": "code",
   "execution_count": 45,
   "id": "a1eddada",
   "metadata": {},
   "outputs": [
    {
     "name": "stdout",
     "output_type": "stream",
     "text": [
      "[[ 0  1]\n",
      " [-1  0]]\n",
      "Is matrix skew symmetric :  True\n"
     ]
    }
   ],
   "source": [
    "import numpy as np\n",
    "\n",
    "A = np.array([[0, 1], [-1, 0]])\n",
    "print(A)\n",
    "print(\"Is matrix skew symmetric : \",np.allclose(A, -A.T))"
   ]
  },
  {
   "cell_type": "code",
   "execution_count": 29,
   "id": "5bdb79a9",
   "metadata": {},
   "outputs": [
    {
     "name": "stdout",
     "output_type": "stream",
     "text": [
      "[[0.+0.j 2.-1.j]\n",
      " [2.+1.j 0.+0.j]]\n",
      "True\n"
     ]
    }
   ],
   "source": [
    "import numpy as np\n",
    "\n",
    "A = np.array([[0, 2-1j], [2+1j,0]])\n",
    "print(A)\n",
    "print(np.allclose(A, A.conj().T))"
   ]
  },
  {
   "cell_type": "code",
   "execution_count": 43,
   "id": "6f34e61d",
   "metadata": {},
   "outputs": [
    {
     "name": "stdout",
     "output_type": "stream",
     "text": [
      "[[ 0.+0.j -2.-1.j]\n",
      " [ 2.+1.j  0.+0.j]]\n",
      "[[-0.+0.j -2.+1.j]\n",
      " [ 2.-1.j -0.+0.j]]\n",
      "IS matrix skew hermitian?  False\n"
     ]
    }
   ],
   "source": [
    "import numpy as np\n",
    "\n",
    "A = np.array([[0, -2-1j], [2+1j,0]])\n",
    "print(A)\n",
    "print(\"IS matrix skew hermitian? \",np.allclose(A, -A.conj().T))\n"
   ]
  },
  {
   "cell_type": "code",
   "execution_count": 20,
   "id": "cc4e1e4a",
   "metadata": {},
   "outputs": [
    {
     "name": "stdout",
     "output_type": "stream",
     "text": [
      "[[ 1  0]\n",
      " [ 0 -1]]\n",
      "Is matrix orthogonal?  True\n"
     ]
    }
   ],
   "source": [
    "import numpy as np\n",
    "\n",
    "# Define a matrix\n",
    "A = np.array([[1, 0], [0, -1]])\n",
    "print(A)\n",
    "print(\"Is matrix orthogonal? \",np.allclose(np.dot(A,A.T), np.eye(A.shape[0])))\n"
   ]
  },
  {
   "cell_type": "code",
   "execution_count": 17,
   "id": "40aaba0a",
   "metadata": {},
   "outputs": [
    {
     "name": "stdout",
     "output_type": "stream",
     "text": [
      "[[1 2 3]\n",
      " [0 9 5]\n",
      " [0 0 6]]\n",
      "Array is upper triangular matrix :  False\n",
      "Array is lower triangular matrix :  True\n"
     ]
    }
   ],
   "source": [
    "import numpy as np\n",
    "\n",
    "# Define a matrix\n",
    "A = np.array([[1, 2, 3], [0, 9, 5], [0, 0, 6]])\n",
    "print(A)\n",
    "print(\"Array is upper triangular matrix : \",np.allclose(A, np.tril(A)))\n",
    "print(\"Array is lower triangular matrix : \",np.allclose(A, np.triu(A)))\n"
   ]
  },
  {
   "cell_type": "code",
   "execution_count": 11,
   "id": "fa27c8d7",
   "metadata": {},
   "outputs": [
    {
     "name": "stdout",
     "output_type": "stream",
     "text": [
      "[[ 4. -2.]\n",
      " [-3.  1.]]\n"
     ]
    }
   ],
   "source": [
    "import numpy as np\n",
    "\n",
    "A = np.array([[1, 2], [3, 4]])\n",
    "\n",
    "adjoint = np.transpose(np.linalg.inv(A).T * np.linalg.det(A))\n",
    "print(adjoint)\n"
   ]
  },
  {
   "cell_type": "code",
   "execution_count": null,
   "id": "0519fef7",
   "metadata": {},
   "outputs": [],
   "source": []
  }
 ],
 "metadata": {
  "kernelspec": {
   "display_name": "Python 3 (ipykernel)",
   "language": "python",
   "name": "python3"
  },
  "language_info": {
   "codemirror_mode": {
    "name": "ipython",
    "version": 3
   },
   "file_extension": ".py",
   "mimetype": "text/x-python",
   "name": "python",
   "nbconvert_exporter": "python",
   "pygments_lexer": "ipython3",
   "version": "3.9.12"
  }
 },
 "nbformat": 4,
 "nbformat_minor": 5
}
