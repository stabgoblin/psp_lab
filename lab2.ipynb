{
 "cells": [
  {
   "cell_type": "code",
   "execution_count": null,
   "id": "77dfd1fb",
   "metadata": {},
   "outputs": [],
   "source": [
    "a1,b1,c1,d1 = eval(input(\"Enter value of a1,b1,c1,d1 : \"))\n",
    "a2,b2,c2,d2 = eval(input(\"Enter value of a2,b2,c2,d2 : \"))\n",
    "a3,b3,c3,d3 = eval(input(\"Enter value of a3,b3,c3,d3 : \"))\n",
    "a4,b4,c4,d4 = eval(input(\"Enter value of a4,b4,c4,d4 : \"))\n",
    "\n",
    "e1,e2,e3,e4 = eval(input(\"Enter value of e1,e2,e3,e4 : \"))\n",
    "\n",
    "A,A1,A2,A3,A4 = 0,0,0,0,0\n",
    "x1,x2,x3,x4 = 0,0,0,0\n",
    "\n",
    "A  = a1*(b2*(c3*d4 - d3*c4)+ c2*(d3*b4 -b3*d4) +d2*(b3*c4-c3*b4)) - b1*(a2*(c3*d4-d3*c4)+c2*(d3*a4 -a3*d4) +d2*(a3*c4-a4*c3)) +c1*(a2*(b3*d4-b4*d3) +b2*(d3*a4 -d4*a3) +d2*(a3*b4-a4*b3)) -d1*(a2*(b3*c4 - b4*c3)+b2*(c3*a4-a3*c4)+c2*(a3*b4-a4*b3))\n",
    "A1 = e1*(b2*(c3*d4 - d3*c4)+ c2*(d3*b4 -b3*d4) +d2*(b3*c4-c3*b4)) - b1*(e2*(c3*d4-d3*c4)+c2*(d3*e4 -e3*d4) +d2*(e3*c4-e4*c3)) +c1*(e2*(b3*d4-b4*d3) +b2*(d3*e4 -d4*e3) +d2*(e3*b4-e4*b3)) -d1*(e2*(b3*c4 - b4*c3)+b2*(c3*e4-e3*c4)+c2*(e3*b4-e4*b3))\n",
    "A2 = a1*(e2*(c3*d4 - d3*c4)+ c2*(d3*e4 -e3*d4) +d2*(e3*c4-c3*e4)) - e1*(a2*(c3*d4-d3*c4)+c2*(d3*a4 -a3*d4) +d2*(a3*c4-a4*c3)) +c1*(a2*(e3*d4-e4*d3) +e2*(d3*a4 -d4*a3) +d2*(a3*e4-a4*e3)) -d1*(a2*(e3*c4 - e4*c3)+e2*(c3*a4-a3*c4)+c2*(a3*e4-a4*e3))\n",
    "A3 = a1*(b2*(e3*d4 - d3*e4)+ e2*(d3*b4 -b3*d4) +d2*(b3*e4-e3*b4)) - b1*(a2*(e3*d4-d3*e4)+e2*(d3*a4 -a3*d4) +d2*(a3*e4-a4*e3)) +e1*(a2*(b3*d4-b4*d3) +b2*(d3*a4 -d4*a3) +d2*(a3*b4-a4*b3)) -d1*(a2*(b3*e4 - b4*e3)+b2*(e3*a4-a3*e4)+e2*(a3*b4-a4*b3))\n",
    "A4 = a1*(b2*(c3*e4 - e3*c4)+ c2*(e3*b4 -b3*e4) +e2*(b3*c4-c3*b4)) - b1*(a2*(c3*e4-e3*c4)+c2*(e3*a4 -a3*e4) +e2*(a3*c4-a4*c3)) +c1*(a2*(b3*e4-b4*e3) +b2*(e3*a4 -e4*a3) +e2*(a3*b4-a4*b3)) -e1*(a2*(b3*c4 - b4*c3)+b2*(c3*a4-a3*c4)+c2*(a3*b4-a4*b3))\n",
    "\n",
    "print(\"Value of A,A1,A2,A3,A4 is : \",A,A1,A2,A3,A4)\n",
    "x1 = A1//A\n",
    "x2 = A2//A\n",
    "x3 = A3//A\n",
    "x4 = A4//A\n",
    "print(\"Value of x1,x2,x3,x4 is : \",x1,x2,x3,x4)"
   ]
  },
  {
   "cell_type": "code",
   "execution_count": null,
   "id": "ce4f9337",
   "metadata": {},
   "outputs": [],
   "source": [
    "#write a python program to find out chinese zodiac sign\n",
    "#for a given year\n",
    "year = int(input(f\"Enter the year : \"))\n",
    "china_zod = [\"Monkey\",\"Rooster\",\"Dog\",\"Pig\",\"Rat\",\"Ox\",\"Tiger\",\"Rabbit\",\"Dragon\",\"Snake\",\"Horse\",\"Sheep\"]\n",
    "zodiacsign = year%12 \n",
    "\n",
    "if year>=0 and year<12:\n",
    "    print(f\"Your chinese zodiac sign is {china_zod[zodiacsign]}\")\n",
    "else:\n",
    "    print(\"Enter a valid Year!!\")"
   ]
  },
  {
   "cell_type": "code",
   "execution_count": 5,
   "id": "1c445e71",
   "metadata": {},
   "outputs": [
    {
     "name": "stdout",
     "output_type": "stream",
     "text": [
      "Enter your marks : 69\n",
      "C grade\n"
     ]
    }
   ],
   "source": [
    "marks = int(input(\"Enter your marks : \"))\n",
    "if marks<35:\n",
    "    print(\"You Fail\")\n",
    "elif marks<40:\n",
    "    print(\"Pass\")\n",
    "elif marks<50:\n",
    "    print(\"E grade\")\n",
    "elif marks<60:\n",
    "    print(\"D grade\")\n",
    "elif marks<70:\n",
    "    print(\"C grade\")\n",
    "elif marks<80:\n",
    "    print(\"B grade\")\n",
    "elif marks<90:\n",
    "    print(\"A grade\")\n",
    "elif marks<=100:\n",
    "    print(\"S grade\")"
   ]
  },
  {
   "cell_type": "code",
   "execution_count": 22,
   "id": "08301375",
   "metadata": {},
   "outputs": [
    {
     "name": "stdout",
     "output_type": "stream",
     "text": [
      "Enter the values of (x,y) : -35,-45\n",
      "Given x coordinate = -35\n",
      "and   y coordinate = -45\n",
      "the point lies in 3rd quadrant\n"
     ]
    }
   ],
   "source": [
    "x,y = eval(input(\"Enter the values of (x,y) : \"))\n",
    "o = [\"1st quadrant\",\"2nd quadrant\",'3rd quadrant','4th quadrant','origin']\n",
    "q = 0\n",
    "if x<0:\n",
    "    if y<0:\n",
    "        q = o[2]\n",
    "    else:\n",
    "        q = o[1]\n",
    "elif x>=0:\n",
    "    if y<0:\n",
    "        q = o[3]\n",
    "    else:\n",
    "        q = o[0]\n",
    "elif y==0 and x==0:\n",
    "    q = o[4]\n",
    "print(f\"Given x coordinate = {x}\")\n",
    "print(f\"and   y coordinate = {y}\")\n",
    "print(f\"the point lies in {q}\")"
   ]
  },
  {
   "cell_type": "code",
   "execution_count": 4,
   "id": "29aef9a1",
   "metadata": {},
   "outputs": [
    {
     "name": "stdout",
     "output_type": "stream",
     "text": [
      "Enter the radius: 5\n",
      "Enter the co ordinates of center: 4,2\n",
      "Enter points x,y: 5,7\n",
      "Point is outside the circle\n"
     ]
    }
   ],
   "source": [
    "#write a python program to find a point is inside outside or on the circle\n",
    "r = float(input(\"Enter the radius: \"))\n",
    "g,h = eval(input(\"Enter the co ordinates of center: \"))\n",
    "x,y = eval(input(\"Enter points x,y: \"))\n",
    "\n",
    "d = (((g-x)**2)+((h-y)**2))**0.5\n",
    "if(d>r):\n",
    "    print(\"Point is outside the circle\")\n",
    "elif(d<r):\n",
    "    print(\"Point is inside the circle\")\n",
    "else:\n",
    "    print(\"Point is on the circle\")"
   ]
  },
  {
   "cell_type": "code",
   "execution_count": null,
   "id": "1bff238f",
   "metadata": {},
   "outputs": [],
   "source": [
    "#write a program to find if a point is inside outside or on the rectangle\n",
    "x1,y1 = eval(input(\"Enter first point of rectangle: \"))\n",
    "x2,y2 = eval(input(\"Enter second point of rectangle: \"))\n",
    "x3,y3 = eval(input(\"Enter third point of rectangle: \"))\n",
    "x4,y4 = eval(input(\"Enter fourth point of rectangle: \"))\n",
    "flag = 0\n",
    "if()\n"
   ]
  },
  {
   "cell_type": "code",
   "execution_count": null,
   "id": "4cf7bf1c",
   "metadata": {},
   "outputs": [],
   "source": [
    "#write a program to find if two points are intersecting or not"
   ]
  }
 ],
 "metadata": {
  "kernelspec": {
   "display_name": "Python 3 (ipykernel)",
   "language": "python",
   "name": "python3"
  },
  "language_info": {
   "codemirror_mode": {
    "name": "ipython",
    "version": 3
   },
   "file_extension": ".py",
   "mimetype": "text/x-python",
   "name": "python",
   "nbconvert_exporter": "python",
   "pygments_lexer": "ipython3",
   "version": "3.9.12"
  }
 },
 "nbformat": 4,
 "nbformat_minor": 5
}
