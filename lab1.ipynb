{
 "cells": [
  {
   "cell_type": "code",
   "execution_count": 16,
   "id": "dbb58892",
   "metadata": {},
   "outputs": [
    {
     "name": "stdout",
     "output_type": "stream",
     "text": [
      "Enter the radius of a circle : 3.1415\n",
      "The area is 31.004447798714214\n",
      "The perimeter is 19.73862664250467\n"
     ]
    }
   ],
   "source": [
    "#write a python program to compute the area and perimeter of a circle\n",
    "pi = 22/7\n",
    "\n",
    "r = float(input(\"Enter the radius of a circle : \"))\n",
    "\n",
    "a = ( r ** 2 ) * pi\n",
    "\n",
    "p = pi * 2 * r\n",
    "\n",
    "print(f\"The area is {a}\")\n",
    "print(f\"The perimeter is {p}\")"
   ]
  },
  {
   "cell_type": "code",
   "execution_count": 14,
   "id": "73bad883",
   "metadata": {},
   "outputs": [
    {
     "name": "stdout",
     "output_type": "stream",
     "text": [
      "Enter the radius : 2.2\n",
      "The curved surface area is 30.410616886749203\n",
      "The total surface area is 45.6159253301238\n"
     ]
    }
   ],
   "source": [
    "#write a python program to find out the value curved surface area (2*pi*(r*r)) and total surface area of hemisphere (3*pi*(r*r))\n",
    "pi = 22/7\n",
    "\n",
    "r = float(input(\"Enter the radius : \"))\n",
    "csa = 2 * pi * ( r ** 2 )\n",
    "tsa = 3 * pi * ( r ** 2 )\n",
    "\n",
    "print(f\"The curved surface area is {csa}\")\n",
    "print(f\"The total surface area is {tsa}\")"
   ]
  },
  {
   "cell_type": "code",
   "execution_count": 15,
   "id": "c3aacd97",
   "metadata": {},
   "outputs": [
    {
     "name": "stdout",
     "output_type": "stream",
     "text": [
      "Enter the diameter : 3.14\n",
      "Enter the height : 3.14\n",
      "The curved surface area is 30.974846927333928\n",
      "The total surface area is 46.46227039100089\n"
     ]
    }
   ],
   "source": [
    "#of a cylinder with diameter of base 7cm and height 40cm\n",
    "pi = 22/7\n",
    "d = float(input(\"Enter the diameter : \"))\n",
    "h = float(input(\"Enter the height : \"))\n",
    "r = d/2\n",
    "\n",
    "csa = 2 * pi * r * h\n",
    "tsa = 2 * pi * r * ( h + r )\n",
    "\n",
    "print(f\"The curved surface area is {csa}\")\n",
    "print(f\"The total surface area is {tsa}\")"
   ]
  },
  {
   "cell_type": "code",
   "execution_count": 11,
   "id": "6daf7afa",
   "metadata": {},
   "outputs": [
    {
     "name": "stdout",
     "output_type": "stream",
     "text": [
      "Enter the Radius : 10.5\n",
      "The volume is 4849.048260815845\n",
      "The surface area is 1385.4423602330987\n"
     ]
    }
   ],
   "source": [
    "#volume and surface area of sphere v=4/3piRcube surface area = 4piRsquare\n",
    "pi = 22/7\n",
    "r = float(input(\"Enter the Radius : \"))\n",
    "\n",
    "v = (4/3) * pi * (r**3)\n",
    "sa = 4 * pi * (r**2)\n",
    "\n",
    "print(f\"The volume is {v}\")\n",
    "print(f\"The surface area is {sa}\")"
   ]
  },
  {
   "cell_type": "code",
   "execution_count": 51,
   "id": "af0d743f",
   "metadata": {},
   "outputs": [
    {
     "name": "stdout",
     "output_type": "stream",
     "text": [
      "Enter x1,y1,z1 : 0,22,33\n",
      "Enter x2,y2,z2 : 55,87,6\n",
      "The distance between these points is 89.32524839036273\n"
     ]
    }
   ],
   "source": [
    "#find the distance bw two points (x1,y1,z1) and (x2,y2,z2)\n",
    "\n",
    "x1,y1,z1 = eval(input(\"Enter x1,y1,z1 : \"))\n",
    "x2,y2,z2 = eval(input(\"Enter x2,y2,z2 : \"))\n",
    "\n",
    "distance = (((x2-x1)**2) + ((y2-y1)**2) + ((z2-z1)**2))**(0.5)\n",
    "print(f\"The distance between these points is {distance}\")"
   ]
  },
  {
   "cell_type": "code",
   "execution_count": 29,
   "id": "4d79f2d8",
   "metadata": {},
   "outputs": [
    {
     "name": "stdout",
     "output_type": "stream",
     "text": [
      "Enter first co ordinates0,0,0\n",
      "Enter second co ordinates1,32,54654\n",
      "The value of det is 0\n"
     ]
    }
   ],
   "source": [
    "#write a program to find weither two points are colinear or not\n",
    "x1,y1,z1 = eval(input(\"Enter first co ordinates\"))\n",
    "x2,y2,z2 = eval(input(\"Enter second co ordinates\"))\n",
    "\n",
    "d = (x1*(y2 -z2) + x2*(z1-y1) + (y1*z2 + y2*z1))\n",
    "print(f\"The value of det is {d}\")\n"
   ]
  },
  {
   "cell_type": "code",
   "execution_count": 48,
   "id": "3ea00dad",
   "metadata": {},
   "outputs": [
    {
     "name": "stdout",
     "output_type": "stream",
     "text": [
      "Enter the value of a,b,c : 1,2,3\n",
      "The value of determinent is -8\n",
      "Roots are imaginary\n",
      "The first root is -1.0 + ( 1.4142135623730951 )i\n",
      "The second root is -1.0 - ( 1.4142135623730951 )i\n"
     ]
    }
   ],
   "source": [
    "#write a python program to find the roots real equal or imaginary of given quadratic equation\n",
    "a,b,c = eval(input(\"Enter the value of a,b,c : \"))\n",
    "d = (b**2) - 4*a*c\n",
    "print(f\"The value of determinent is {d}\")\n",
    "if(d>=0):\n",
    "    x1 = ((-b)+(d**0.5))/(2*a)\n",
    "    x2 = ((-b)-(d**0.5))/(2*a)\n",
    "    if(d==0):\n",
    "        print(\"Roots are real and equal\")\n",
    "    else:\n",
    "        print(\"Roots are real and unequal\")\n",
    "    print(f\"The first root is {x1}\\nThe second root is {x2}\")\n",
    "elif(d<0):\n",
    "    print(\"Roots are imaginary\")\n",
    "    real = (-b)/(2*a)\n",
    "    im = (abs(d)**0.5)/2*a\n",
    "    print(\"The first root is\",real,\"+ (\",im,\")i\")\n",
    "    print(\"The second root is\",real,\"- (\",im,\")i\")\n",
    "    "
   ]
  }
 ],
 "metadata": {
  "kernelspec": {
   "display_name": "Python 3 (ipykernel)",
   "language": "python",
   "name": "python3"
  },
  "language_info": {
   "codemirror_mode": {
    "name": "ipython",
    "version": 3
   },
   "file_extension": ".py",
   "mimetype": "text/x-python",
   "name": "python",
   "nbconvert_exporter": "python",
   "pygments_lexer": "ipython3",
   "version": "3.9.12"
  }
 },
 "nbformat": 4,
 "nbformat_minor": 5
}
