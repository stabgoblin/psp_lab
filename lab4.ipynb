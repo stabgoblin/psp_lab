{
 "cells": [
  {
   "cell_type": "code",
   "execution_count": 17,
   "id": "09e63b10",
   "metadata": {},
   "outputs": [
    {
     "name": "stdout",
     "output_type": "stream",
     "text": [
      "0 1 1 2 3 5 8 13 21 34 55 89 144 233 377 610 987 1597 2584 4181 6765 10946 17711 28657 46368 75025 121393 196418 317811 514229 832040 1346269 2178309 3524578 5702887 9227465 14930352 24157817 39088169 63245986 102334155 165580141 267914296 433494437 701408733 1134903170 1836311903 2971215073 4807526976 7778742049 "
     ]
    }
   ],
   "source": [
    "def fibo ( n ) :\n",
    "    n = int ( n )\n",
    "    a = 0\n",
    "    b = 1\n",
    "    tmp = 1\n",
    "    for j in range ( n ) :\n",
    "        print ( a , end = \" \" )\n",
    "        tmp = b\n",
    "        b += a\n",
    "        a = tmp\n",
    "fibo ( 50 )"
   ]
  },
  {
   "cell_type": "code",
   "execution_count": 6,
   "id": "0838d5bd",
   "metadata": {},
   "outputs": [
    {
     "name": "stdout",
     "output_type": "stream",
     "text": [
      "21\n"
     ]
    }
   ],
   "source": [
    "#program to print nCr\n",
    "def c(m,n):\n",
    "    if n==0:\n",
    "        return 1\n",
    "    elif m==n:\n",
    "        return 1\n",
    "    else:\n",
    "        return c(m-1,n-1)+c(m-1,n)\n",
    "print(c(7,5))"
   ]
  },
  {
   "cell_type": "code",
   "execution_count": 14,
   "id": "82a9c6e2",
   "metadata": {},
   "outputs": [
    {
     "name": "stdout",
     "output_type": "stream",
     "text": [
      "         1 \n",
      "        1 1 \n",
      "       1 2 1 \n",
      "      1 3 3 1 \n",
      "     1 4 6 4 1 \n",
      "    1 5 10 10 5 1 \n",
      "   1 6 15 20 15 6 1 \n",
      "  1 7 21 35 35 21 7 1 \n",
      " 1 8 28 56 70 56 28 8 1 \n",
      "1 9 36 84 126 126 84 36 9 1 \n"
     ]
    }
   ],
   "source": [
    "#pascal's triangle\n",
    "def ncr(n,r):\n",
    "    if r==0:\n",
    "        return 1\n",
    "    elif n==r:\n",
    "        return 1\n",
    "    else:\n",
    "        return ncr(n-1,r-1) + ncr(n-1,r)\n",
    "def pascal(n):\n",
    "    for i in range(n):\n",
    "        print(\" \"*(n-i-1),end='')\n",
    "        for j in range(i+1):\n",
    "            print(ncr(i,j),end = \" \")\n",
    "        print()\n",
    "pascal(10)"
   ]
  },
  {
   "cell_type": "code",
   "execution_count": 16,
   "id": "177f7b88",
   "metadata": {},
   "outputs": [
    {
     "name": "stdout",
     "output_type": "stream",
     "text": [
      "1 \n",
      "2 3 \n",
      "4 5 6 \n",
      "7 8 9 10 \n"
     ]
    }
   ],
   "source": [
    "#floyd triangle\n",
    "def flo(n):\n",
    "    fl = 1\n",
    "    for i in range(n):\n",
    "        for j in range(i+1):\n",
    "            print(fl,end=' ')\n",
    "            fl+=1\n",
    "        print()\n",
    "flo(4)"
   ]
  },
  {
   "cell_type": "code",
   "execution_count": 24,
   "id": "559b3eb0",
   "metadata": {},
   "outputs": [
    {
     "name": "stdout",
     "output_type": "stream",
     "text": [
      "5\n",
      "2\n",
      "1\n",
      "0\n"
     ]
    }
   ],
   "source": [
    "#octal to binary and hexadecimal to binary\n",
    "# 7 = 111\n",
    "def ocToBin(n):\n",
    "    x = 0\n",
    "    tmp = n\n",
    "    while(tmp):\n",
    "        tmp = tmp//2\n",
    "        print(tmp)\n",
    "ocToBin(10)"
   ]
  },
  {
   "cell_type": "code",
   "execution_count": null,
   "id": "8aedb5cf",
   "metadata": {},
   "outputs": [],
   "source": []
  }
 ],
 "metadata": {
  "kernelspec": {
   "display_name": "Python 3 (ipykernel)",
   "language": "python",
   "name": "python3"
  },
  "language_info": {
   "codemirror_mode": {
    "name": "ipython",
    "version": 3
   },
   "file_extension": ".py",
   "mimetype": "text/x-python",
   "name": "python",
   "nbconvert_exporter": "python",
   "pygments_lexer": "ipython3",
   "version": "3.9.12"
  }
 },
 "nbformat": 4,
 "nbformat_minor": 5
}
